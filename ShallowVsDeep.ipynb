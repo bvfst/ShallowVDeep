{
 "cells": [
  {
   "cell_type": "code",
   "execution_count": 2,
   "id": "fcaa58ee",
   "metadata": {},
   "outputs": [],
   "source": [
    "import pandas as pd\n",
    "import numpy as np\n",
    "from sklearn.preprocessing import MinMaxScaler, OneHotEncoder, \\\n",
    "                                    OrdinalEncoder, StandardScaler\n",
    "import matplotlib.pyplot as plt\n",
    "import seaborn as sns\n",
    "import copy\n",
    "from sklearn.pipeline import Pipeline\n",
    "import sklearn.metrics as metrics\n",
    "import winsound\n",
    "\n",
    "import tensorflow as tf\n",
    "import keras_tuner as kt\n",
    "from tensorflow import keras\n",
    "from tensorflow.keras.optimizers import Adam\n",
    "from tensorflow.keras.callbacks import EarlyStopping\n",
    "from tensorflow.keras.models import Sequential\n",
    "from tensorflow.keras.layers import Dense\n",
    "from tensorflow.keras import layers\n",
    "from tensorflow.keras.wrappers.scikit_learn import KerasClassifier\n",
    "from tensorflow.keras.wrappers.scikit_learn import KerasRegressor\n",
    "import matplotlib.pyplot as plt\n",
    "\n",
    "import gc\n",
    "import timeit\n",
    "\n",
    "import json\n",
    "from datetime import datetime\n",
    "from numba import cuda"
   ]
  },
  {
   "cell_type": "markdown",
   "id": "5da99ce3",
   "metadata": {},
   "source": [
    "# Preparing Data"
   ]
  },
  {
   "cell_type": "code",
   "execution_count": 3,
   "id": "3076813f",
   "metadata": {},
   "outputs": [],
   "source": [
    "X = 2*(np.pi)*np.random.uniform(-1, 1, size=120000)"
   ]
  },
  {
   "cell_type": "code",
   "execution_count": 4,
   "id": "e9458a36",
   "metadata": {},
   "outputs": [],
   "source": [
    "Y = 2*(2*(np.cos(X))**2-1)**2-1"
   ]
  },
  {
   "cell_type": "code",
   "execution_count": 5,
   "id": "b394fe6d",
   "metadata": {},
   "outputs": [],
   "source": [
    "data_1 = pd.DataFrame({'X': X, 'Y': Y}, columns=['X', 'Y'])"
   ]
  },
  {
   "cell_type": "code",
   "execution_count": 6,
   "id": "9bb0bc2b",
   "metadata": {},
   "outputs": [],
   "source": [
    "training_data_1 = data_1.sample(frac=0.5, random_state=25)\n",
    "testing_data_1 = data_1.drop(training_data_1.index)"
   ]
  },
  {
   "cell_type": "code",
   "execution_count": 7,
   "id": "2401d97c",
   "metadata": {},
   "outputs": [],
   "source": [
    "training_data_1_X = training_data_1[\"X\"]\n",
    "test_data_1_X = testing_data_1[\"X\"]\n",
    "training_data_1_Y = training_data_1[\"Y\"]\n",
    "test_data_1_Y = testing_data_1[\"Y\"]"
   ]
  },
  {
   "cell_type": "code",
   "execution_count": 8,
   "id": "1f686ba6",
   "metadata": {},
   "outputs": [],
   "source": [
    "training_data_1_X = tf.convert_to_tensor(training_data_1_X)"
   ]
  },
  {
   "cell_type": "markdown",
   "id": "803d031d",
   "metadata": {},
   "source": [
    "# Creating Model Architectures"
   ]
  },
  {
   "cell_type": "code",
   "execution_count": 19,
   "id": "a03cf797",
   "metadata": {},
   "outputs": [],
   "source": [
    "def build_model_1_1(nb_hidden=24):\n",
    "    model = Sequential()\n",
    "    sgd = tf.keras.optimizers.SGD(learning_rate=0.0001, momentum=0.9)\n",
    "    model.add(tf.keras.layers.Input(shape=(1,)))\n",
    "    model.add(tf.keras.layers.BatchNormalization())\n",
    "    model.add(Dense(units = nb_hidden, activation=\"relu\"))\n",
    "    model.add(Dense(1))\n",
    "    model.compile(loss= \"mean_squared_error\", optimizer=sgd, \n",
    "                  metrics=[\"mean_squared_error\"])\n",
    "    return model"
   ]
  },
  {
   "cell_type": "code",
   "execution_count": 20,
   "id": "149580e5",
   "metadata": {},
   "outputs": [],
   "source": [
    "def build_model_1_2(nb_hidden=24):\n",
    "    model = Sequential()\n",
    "    sgd = tf.keras.optimizers.SGD(learning_rate=0.0001, momentum=0.9)\n",
    "    model.add(tf.keras.layers.Input(shape=(1,)))\n",
    "    model.add(tf.keras.layers.BatchNormalization())\n",
    "    model.add(Dense(units = nb_hidden, activation=\"relu\"))\n",
    "    model.add(tf.keras.layers.BatchNormalization())\n",
    "    model.add(Dense(units = nb_hidden, activation=\"relu\"))\n",
    "    model.add(Dense(1))\n",
    "    model.compile(loss= \"mean_squared_error\", optimizer=sgd, \n",
    "                  metrics=[\"mean_squared_error\"])\n",
    "    return model"
   ]
  },
  {
   "cell_type": "code",
   "execution_count": 21,
   "id": "d7086ef0",
   "metadata": {},
   "outputs": [],
   "source": [
    "def build_model_1_3(nb_hidden=24):\n",
    "    model = Sequential()\n",
    "    sgd = tf.keras.optimizers.SGD(learning_rate=0.0001, momentum=0.9)\n",
    "    model.add(tf.keras.layers.Input(shape=(1,)))\n",
    "    model.add(tf.keras.layers.BatchNormalization())\n",
    "    model.add(Dense(units = nb_hidden, activation=\"relu\"))\n",
    "    model.add(tf.keras.layers.BatchNormalization())\n",
    "    model.add(Dense(units = nb_hidden, activation=\"relu\"))\n",
    "    model.add(tf.keras.layers.BatchNormalization())\n",
    "    model.add(Dense(units = nb_hidden, activation=\"relu\"))\n",
    "    model.add(Dense(1))\n",
    "    model.compile(loss= \"mean_squared_error\", optimizer=sgd, \n",
    "                  metrics=[\"mean_squared_error\"])\n",
    "    return model"
   ]
  },
  {
   "cell_type": "markdown",
   "id": "451e88c2",
   "metadata": {},
   "source": [
    "# Running models"
   ]
  },
  {
   "cell_type": "code",
   "execution_count": 22,
   "id": "cd3e7a9b",
   "metadata": {},
   "outputs": [
    {
     "data": {
      "text/plain": [
       "18221"
      ]
     },
     "execution_count": 22,
     "metadata": {},
     "output_type": "execute_result"
    }
   ],
   "source": [
    "# start_time = timeit.default_timer()\n",
    "scores_1 = []\n",
    "\n",
    "num_units_1 = [24, 48, 72, 128, 256]\n",
    "for num_units in num_units_1:\n",
    "    model_1 = build_model_1_1(num_units)\n",
    "    scores = []\n",
    "    for i in range(5):\n",
    "        history = model_1.fit(training_data_1_X, \n",
    "            training_data_1_Y, epochs=2000, batch_size=3000, verbose=0)\n",
    "        score = model_1.evaluate(test_data_1_X, test_data_1_Y, verbose=0)\n",
    "        scores.append(score[0])\n",
    "    scores_1.append(min(scores))\n",
    "# elapsed = timeit.default_timer() - start_time\n",
    "# print(\"Single neural network takes:- \" + str(elapsed))\n",
    "model_1 = None\n",
    "gc.collect()"
   ]
  },
  {
   "cell_type": "code",
   "execution_count": 23,
   "id": "afc6dfb0",
   "metadata": {},
   "outputs": [],
   "source": [
    "training_data_1_X = tf.convert_to_tensor(training_data_1_X)"
   ]
  },
  {
   "cell_type": "code",
   "execution_count": 24,
   "id": "3882f195",
   "metadata": {},
   "outputs": [
    {
     "data": {
      "text/plain": [
       "10917"
      ]
     },
     "execution_count": 24,
     "metadata": {},
     "output_type": "execute_result"
    }
   ],
   "source": [
    "# start_time = timeit.default_timer()\n",
    "scores_2 = []\n",
    "num_units_2 = [12, 24, 36]\n",
    "for num_units in num_units_2:\n",
    "    model_1 = build_model_1_2(num_units)\n",
    "    scores = []\n",
    "    for i in range(5):\n",
    "#     for i in range(1):\n",
    "        history = model_1.fit(training_data_1_X, \n",
    "            training_data_1_Y, epochs=2000, batch_size=3000, verbose=0)\n",
    "        score = model_1.evaluate(test_data_1_X, test_data_1_Y, verbose=0)\n",
    "        scores.append(score[0])\n",
    "    scores_2.append(min(scores))\n",
    "# elapsed = timeit.default_timer() - start_time\n",
    "# print(\"Single neural network takes:- \" + str(elapsed))\n",
    "model_1 = None\n",
    "gc.collect()"
   ]
  },
  {
   "cell_type": "code",
   "execution_count": 25,
   "id": "b438dbcc",
   "metadata": {},
   "outputs": [
    {
     "data": {
      "text/plain": [
       "13341"
      ]
     },
     "execution_count": 25,
     "metadata": {},
     "output_type": "execute_result"
    }
   ],
   "source": [
    "# start_time = timeit.default_timer()\n",
    "scores_3 = []\n",
    "num_units_3 = [8, 16, 24]\n",
    "for num_units in num_units_3:\n",
    "    model_1 = build_model_1_3(num_units)\n",
    "    scores = []\n",
    "    for i in range(5):\n",
    "#     for i in range(1):\n",
    "        history = model_1.fit(training_data_1_X, \n",
    "            training_data_1_Y, epochs=2000, batch_size=3000, verbose=0)\n",
    "        score = model_1.evaluate(test_data_1_X, test_data_1_Y, verbose=0)\n",
    "        scores.append(score[0])\n",
    "    scores_3.append(min(scores))\n",
    "# elapsed = timeit.default_timer() - start_time\n",
    "# print(\"Single neural network takes:- \" + str(elapsed))\n",
    "model_1 = None\n",
    "gc.collect()"
   ]
  },
  {
   "cell_type": "code",
   "execution_count": null,
   "id": "de6786aa",
   "metadata": {},
   "outputs": [],
   "source": []
  },
  {
   "cell_type": "markdown",
   "id": "7966d149",
   "metadata": {},
   "source": [
    "# Plottting the Results"
   ]
  },
  {
   "cell_type": "code",
   "execution_count": 26,
   "id": "e1b3b154",
   "metadata": {},
   "outputs": [
    {
     "data": {
      "image/png": "[encoded data removed]",
      "text/plain": [
       "<Figure size 432x288 with 1 Axes>"
      ]
     },
     "metadata": {
      "needs_background": "light"
     },
     "output_type": "display_data"
    }
   ],
   "source": [
    "plt.plot(num_units_1, [np.sqrt(i) for i in scores_1], \"k-\", \n",
    "         [i * 2 for i in num_units_2], [np.sqrt(i) for i in scores_2], \"b-\", \n",
    "         [i * 3 for i in num_units_3], [np.sqrt(i) for i in scores_3], \"g--\")\n",
    "plt.legend([\"1 hidden\", \"2 hidden\", \"3 hidden\"])\n",
    "plt.xlim([20, 80])\n",
    "plt.ylim([0, 0.8])\n",
    "plt.xlabel(\"Number of Units\")\n",
    "plt.ylabel(\"Test Error\")\n",
    "plt.show()"
   ]
  },
  {
   "cell_type": "code",
   "execution_count": null,
   "id": "0e75cdae",
   "metadata": {},
   "outputs": [],
   "source": [
    "'''\n",
    "We can see that deep layers with less neurons or same amount \n",
    "of neurons are performing much better than shallow neural networks\n",
    "'''"
   ]
  }
 ],
 "metadata": {
  "kernelspec": {
   "display_name": "tf2",
   "language": "python",
   "name": "tf2"
  },
  "language_info": {
   "codemirror_mode": {
    "name": "ipython",
    "version": 3
   },
   "file_extension": ".py",
   "mimetype": "text/x-python",
   "name": "python",
   "nbconvert_exporter": "python",
   "pygments_lexer": "ipython3",
   "version": "3.9.7"
  }
 },
 "nbformat": 4,
 "nbformat_minor": 5
}
